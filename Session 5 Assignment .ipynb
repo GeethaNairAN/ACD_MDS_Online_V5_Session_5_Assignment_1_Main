{
 "cells": [
  {
   "cell_type": "code",
   "execution_count": 1,
   "metadata": {},
   "outputs": [
    {
     "name": "stdout",
     "output_type": "stream",
     "text": [
      "Division by Zero is impossible\n",
      "Function executed\n",
      "Data type of the input not supported. Please enter two numbers\n",
      "Function executed\n",
      "Data type of the input not supported. Please enter two numbers\n",
      "Function executed\n",
      "The quotient of the operation is :  7.6\n",
      "Function executed\n",
      "The quotient of the operation is :  3.0\n",
      "Function executed\n"
     ]
    }
   ],
   "source": [
    "# Function to compute 5/0 and to catch the exceptions\n",
    "# Let num1 and num2 be the numbers to be divided. \n",
    "def divide(num1,num2):\n",
    "    try:\n",
    "        quotient=num1/num2\n",
    "    except ZeroDivisionError:\n",
    "        print ('Division by Zero is impossible')\n",
    "    except TypeError:\n",
    "        print ('Data type of the input not supported. Please enter two numbers')\n",
    "    else:\n",
    "        print('The quotient of the operation is : ', quotient)\n",
    "    finally:\n",
    "        print('Function executed')\n",
    "\n",
    "# Call the function to divide using the input values. \n",
    "divide(5,0)\n",
    "divide(5,'a')\n",
    "divide('b',0)\n",
    "divide(3.8,0.5)\n",
    "divide(6,2)\n",
    "    "
   ]
  },
  {
   "cell_type": "code",
   "execution_count": 2,
   "metadata": {},
   "outputs": [
    {
     "name": "stdout",
     "output_type": "stream",
     "text": [
      "Americans play Baseball\n",
      "Americans play Cricket\n",
      "Americans watch Baseball\n",
      "Americans watch Cricket\n",
      "Indians play Baseball\n",
      "Indians play Cricket\n",
      "Indians watch Baseball\n",
      "Indians watch Cricket\n"
     ]
    }
   ],
   "source": [
    "# Python program to generate the sentences as provided in the problem statement\n",
    "\n",
    "subject=[\"Americans\",\"Indians\"]\n",
    "verbs=[\"play\",\"watch\"]\n",
    "objects=[\"Baseball\",\"Cricket\"]\n",
    "for i in subject:\n",
    "    for j in verbs:\n",
    "        for k in objects:\n",
    "            print(i+' '+j+' '+k)"
   ]
  },
  {
   "cell_type": "code",
   "execution_count": null,
   "metadata": {},
   "outputs": [],
   "source": []
  }
 ],
 "metadata": {
  "kernelspec": {
   "display_name": "Python 3",
   "language": "python",
   "name": "python3"
  },
  "language_info": {
   "codemirror_mode": {
    "name": "ipython",
    "version": 3
   },
   "file_extension": ".py",
   "mimetype": "text/x-python",
   "name": "python",
   "nbconvert_exporter": "python",
   "pygments_lexer": "ipython3",
   "version": "3.6.5"
  }
 },
 "nbformat": 4,
 "nbformat_minor": 2
}
